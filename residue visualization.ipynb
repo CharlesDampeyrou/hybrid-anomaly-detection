{
 "cells": [
  {
   "cell_type": "markdown",
   "metadata": {},
   "source": [
    "# Exploration et analyse des résidus au cours des vols"
   ]
  },
  {
   "cell_type": "code",
   "execution_count": 1,
   "metadata": {},
   "outputs": [],
   "source": [
    "%load_ext autoreload\n",
    "%autoreload 2"
   ]
  },
  {
   "cell_type": "code",
   "execution_count": 2,
   "metadata": {},
   "outputs": [],
   "source": [
    "from pathlib import Path\n",
    "\n",
    "import pandas as pd\n",
    "import torch\n",
    "import torch.nn as nn\n",
    "from pytorch_lightning.callbacks import ModelCheckpoint\n",
    "from pytorch_lightning.loggers import TensorBoardLogger\n",
    "from tqdm import tqdm\n",
    "\n",
    "from reader import FromPandasDataset\n",
    "from model import (\n",
    "    PhysicalModel,\n",
    "    FlightMecaNet3DEq,\n",
    "    GenericFlightMecaDataset,\n",
    "    GenericFlightMecaDatasetFast,\n",
    ")\n",
    "from reader.preprocessing import convert_units"
   ]
  },
  {
   "cell_type": "markdown",
   "metadata": {},
   "source": [
    "## Variables"
   ]
  },
  {
   "cell_type": "code",
   "execution_count": 3,
   "metadata": {},
   "outputs": [],
   "source": [
    "training_name = \"2_epochs_only\"\n",
    "\n",
    "dataset_name = \"Safire\"\n",
    "if dataset_name == \"test\":\n",
    "    time_var = \"Time, s\"\n",
    "    flight_name_var = \"flight_name\"\n",
    "    mass_var = \"MASS\"\n",
    "    jx_var = \"JX\"\n",
    "    jy_var = \"JY\"\n",
    "    jz_var = \"JZ\"\n",
    "    alpha_var = \"ALPHA\"\n",
    "    beta_var = \"BETA\"\n",
    "    pressure_var = \"PST\"\n",
    "    temp_var = \"SAT\"\n",
    "    air_speed_var = \"VTAS\"\n",
    "    mach_var = \"MACH\"\n",
    "    gear_var = \"MLG\"\n",
    "    flaps_bool_var = \"DB\"\n",
    "    flaps_var = \"DVOLIG\"\n",
    "    stab_var = \"TRIM\"\n",
    "    elevator_var = \"DM\"\n",
    "    rudder_var = \"DN\"\n",
    "    aileron_var = \"DL\"\n",
    "    spoiler_var = \"DSPOIL\"\n",
    "    n1_var = \"N1\"\n",
    "    altitude_var = \"ZBPIL\"\n",
    "    roll_angle_var = \"PHI\"\n",
    "elif dataset_name == \"Safire\":\n",
    "    time_var = \"time\"\n",
    "    flight_name_var = \"flight_name\"\n",
    "    mass_var = \"m\"\n",
    "    jx_var = \"nx\"\n",
    "    jy_var = \"ny\"\n",
    "    jz_var = \"nz\"\n",
    "    alpha_var = \"alphar\"\n",
    "    beta_var = \"betar\"\n",
    "    pressure_var = \"p\"\n",
    "    temp_var = \"temp\"\n",
    "    air_speed_var = \"tas\"\n",
    "    mach_var = \"mach\"\n",
    "    gear_var = \"ge\"\n",
    "    flaps_var = \"fl\"\n",
    "    stab_var = \"dSr\"\n",
    "    elevator_var = \"dEr\"\n",
    "    rudder_var = \"dRr\"\n",
    "    aileron_var = \"dAr\"\n",
    "    throttle_var = \"dT\"\n",
    "    altitude_var = \"h\"\n",
    "    roll_angle_var = \"phir\"\n",
    "else :\n",
    "    raise ValueError(f\"Unknown dataset {dataset_name}\")\n",
    "\n",
    "cx_input_vars = [\n",
    "    alpha_var,\n",
    "    flaps_var,\n",
    "    stab_var,\n",
    "    elevator_var,\n",
    "    mach_var,\n",
    "    gear_var,\n",
    "]\n",
    "\n",
    "cy_input_vars = [\n",
    "    beta_var,\n",
    "    rudder_var,\n",
    "    mach_var,\n",
    "]\n",
    "\n",
    "cz_input_vars = [\n",
    "    alpha_var,\n",
    "    flaps_var,\n",
    "    stab_var,\n",
    "    elevator_var,\n",
    "    mach_var,\n",
    "    gear_var,\n",
    "]\n",
    "\n",
    "thrust_input_vars = [\n",
    "    #n1_var,\n",
    "    throttle_var,\n",
    "    pressure_var,\n",
    "    temp_var,\n",
    "]"
   ]
  },
  {
   "cell_type": "markdown",
   "metadata": {},
   "source": [
    "## Chargement des données"
   ]
  },
  {
   "cell_type": "code",
   "execution_count": 4,
   "metadata": {},
   "outputs": [
    {
     "name": "stderr",
     "output_type": "stream",
     "text": [
      "22it [01:02,  2.83s/it]\n"
     ]
    }
   ],
   "source": [
    "if dataset_name == \"test\":\n",
    "    datapath = Path.cwd() / \"test_data\" / \"test_data.csv\"\n",
    "    df = pd.read_csv(datapath)\n",
    "    df = df.set_index([flight_name_var, time_var])\n",
    "    convertion_dict = {\n",
    "        \"lbs\": [mass_var],\n",
    "        \"deg\": [\n",
    "            alpha_var,\n",
    "            beta_var,\n",
    "            elevator_var,\n",
    "            rudder_var,\n",
    "            aileron_var,\n",
    "            spoiler_var,\n",
    "            roll_angle_var,\n",
    "        ],\n",
    "        \"celcius\":[temp_var],\n",
    "        \"kts\": [air_speed_var],\n",
    "    }\n",
    "    df = convert_units(df, convertion_dict)\n",
    "\n",
    "elif dataset_name == \"Safire\":\n",
    "    dirpath = (\n",
    "        Path.home()\n",
    "        / \"Documents\"\n",
    "        / \"data\"\n",
    "        / \"Safire_meghatropique\"\n",
    "        / \"simulations\"\n",
    "        / \"oop_control_old\"\n",
    "        / \"light\"\n",
    "    )\n",
    "    df = pd.DataFrame()\n",
    "    for i, file in tqdm(enumerate(dirpath.glob(\"*.csv\"))):\n",
    "        temp_df = pd.read_csv(file).iloc[::5]\n",
    "        temp_df[flight_name_var] = f\"vol {i}\"\n",
    "        df = pd.concat([df, temp_df], axis=0)\n",
    "    del temp_df\n",
    "    df[\"h\"] = -df[\"ze\"]\n",
    "    df = df.set_index([flight_name_var, time_var])\n",
    "else:\n",
    "    raise ValueError(\"Unknown dataset\")"
   ]
  },
  {
   "cell_type": "markdown",
   "metadata": {},
   "source": [
    "## Création du dataset"
   ]
  },
  {
   "cell_type": "code",
   "execution_count": 5,
   "metadata": {},
   "outputs": [],
   "source": [
    "to_normalize = cx_input_vars + cy_input_vars + cz_input_vars + thrust_input_vars\n",
    "to_normalize = list(set(to_normalize))\n",
    "\n",
    "data = FromPandasDataset(\n",
    "    df,\n",
    "    train_flight_names=None,  # répartition aléatoire avec utilisation d'une seed\n",
    "    data_reduction=None,\n",
    "    to_normalize=to_normalize,\n",
    "    filter_train_phases=True,\n",
    "    flight_phase_parameters={\n",
    "        \"alt_name\":altitude_var,\n",
    "        \"flaps_name\":flaps_var,\n",
    "        \"roll_angle_name\":roll_angle_var,\n",
    "    }\n",
    ")"
   ]
  },
  {
   "cell_type": "markdown",
   "metadata": {},
   "source": [
    "## Définition des hyperparamètres et initialisation du modèle"
   ]
  },
  {
   "cell_type": "code",
   "execution_count": 6,
   "metadata": {},
   "outputs": [
    {
     "name": "stderr",
     "output_type": "stream",
     "text": [
      "GPU available: True (cuda), used: True\n",
      "TPU available: False, using: 0 TPU cores\n",
      "HPU available: False, using: 0 HPUs\n"
     ]
    }
   ],
   "source": [
    "dataset_var_names_list = [\n",
    "    cx_input_vars,\n",
    "    cy_input_vars,\n",
    "    cz_input_vars,\n",
    "    thrust_input_vars,\n",
    "]\n",
    "dataset_var_names = [\n",
    "    mass_var,\n",
    "    jx_var,\n",
    "    jy_var,\n",
    "    jz_var,\n",
    "    alpha_var,\n",
    "    beta_var,\n",
    "    pressure_var,\n",
    "    temp_var,\n",
    "    air_speed_var,\n",
    "]\n",
    "dataset_params = {\n",
    "    \"var_names\": dataset_var_names,\n",
    "    \"var_names_list\": dataset_var_names_list,\n",
    "}\n",
    "\n",
    "\n",
    "net_coef_dict = {\n",
    "    \"cx_net_coef\": 1e-2,\n",
    "    \"cy_net_coef\": 1e-3,\n",
    "    \"cz_net_coef\": 1e-1,\n",
    "    \"trust_net_coef\": 1e3,\n",
    "}\n",
    "\n",
    "net_params = {\n",
    "    \"cx_param_dim\": len(cx_input_vars),\n",
    "    \"cy_param_dim\": len(cy_input_vars),\n",
    "    \"cz_param_dim\": len(cz_input_vars),\n",
    "    \"thrust_param_dim\": len(thrust_input_vars),\n",
    "    \"regressor_layers\": 3,\n",
    "    \"regressor_layer_dim\": 64,\n",
    "    \"lr\": 1e-5,\n",
    "    \"net_coef_dict\": net_coef_dict,\n",
    "    \"equation_params\": {\n",
    "        \"air_molar_mass\": 29e-3,\n",
    "        \"gas_constant\": 8.314,\n",
    "        \"wing_surface\": 21.5,  # surface ailaire, en m^2\n",
    "    },\n",
    "}\n",
    "\n",
    "saving_dir = Path.cwd() / \"checkpoints\" / training_name\n",
    "log_dir = Path.cwd() / \"logs\"/ training_name\n",
    "\n",
    "callbacks = [\n",
    "    ModelCheckpoint(\n",
    "        saving_dir,\n",
    "        \"checkpoint.ckpt\",\n",
    "        monitor=\"val loss\",\n",
    "    )\n",
    "]\n",
    "\n",
    "trainer_params = {\n",
    "    \"max_epochs\": 200,\n",
    "    \"callbacks\": callbacks,\n",
    "    \"logger\": TensorBoardLogger(save_dir=log_dir),\n",
    "    \"accelerator\": \"gpu\"\n",
    "}\n",
    "\n",
    "model = PhysicalModel(\n",
    "    log_dir=log_dir,\n",
    "    saving_dir=saving_dir,\n",
    "    saving_name=\"checkpoint.ckpt\",\n",
    "    NetClass=FlightMecaNet3DEq,\n",
    "    net_params=net_params,\n",
    "    DatasetClass=GenericFlightMecaDatasetFast,\n",
    "    dataset_params=dataset_params,\n",
    "    trainer_params=trainer_params,\n",
    "    batch_size=1024,\n",
    "    num_loader_workers=8,  # à ajuster selon le nombre de coeurs dispos\n",
    ")"
   ]
  },
  {
   "cell_type": "markdown",
   "metadata": {},
   "source": [
    "## Entrainement du modèle"
   ]
  },
  {
   "cell_type": "code",
   "execution_count": 7,
   "metadata": {},
   "outputs": [
    {
     "name": "stderr",
     "output_type": "stream",
     "text": [
      "Missing logger folder: /home/cdampeyrou/Documents/depots_git/aircraft-hybrid-ad/logs/2_epochs_only/lightning_logs\n",
      "/home/cdampeyrou/miniconda3/envs/hybrid-ad-env/lib/python3.10/site-packages/pytorch_lightning/callbacks/model_checkpoint.py:652: Checkpoint directory /home/cdampeyrou/Documents/depots_git/aircraft-hybrid-ad/checkpoints/2_epochs_only exists and is not empty.\n",
      "LOCAL_RANK: 0 - CUDA_VISIBLE_DEVICES: [0]\n",
      "\n",
      "  | Name       | Type            | Params | Mode \n",
      "-------------------------------------------------------\n",
      "0 | cx_net     | SimpleRegressor | 13.0 K | train\n",
      "1 | cy_net     | SimpleRegressor | 12.8 K | train\n",
      "2 | cz_net     | SimpleRegressor | 13.0 K | train\n",
      "3 | thrust_net | SimpleRegressor | 12.8 K | train\n",
      "4 | loss_func  | HuberLoss       | 0      | train\n",
      "-------------------------------------------------------\n",
      "51.6 K    Trainable params\n",
      "0         Non-trainable params\n",
      "51.6 K    Total params\n",
      "0.206     Total estimated model params size (MB)\n"
     ]
    },
    {
     "name": "stdout",
     "output_type": "stream",
     "text": [
      "Epoch 1: 100%|██████████| 289/289 [00:27<00:00, 10.40it/s, v_num=0]        "
     ]
    },
    {
     "name": "stderr",
     "output_type": "stream",
     "text": [
      "`Trainer.fit` stopped: `max_epochs=2` reached.\n"
     ]
    },
    {
     "name": "stdout",
     "output_type": "stream",
     "text": [
      "Epoch 1: 100%|██████████| 289/289 [00:27<00:00, 10.38it/s, v_num=0]\n"
     ]
    }
   ],
   "source": [
    "force_training = True\n",
    "if not model._is_fitted or force_training:\n",
    "    model.fit(data)\n",
    "else:\n",
    "    print(\"Modèle déjà entrainé !\")"
   ]
  }
 ],
 "metadata": {
  "kernelspec": {
   "display_name": "hybrid-ad-env",
   "language": "python",
   "name": "python3"
  },
  "language_info": {
   "codemirror_mode": {
    "name": "ipython",
    "version": 3
   },
   "file_extension": ".py",
   "mimetype": "text/x-python",
   "name": "python",
   "nbconvert_exporter": "python",
   "pygments_lexer": "ipython3",
   "version": "3.10.14"
  }
 },
 "nbformat": 4,
 "nbformat_minor": 2
}
