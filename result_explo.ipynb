{
 "cells": [
  {
   "cell_type": "code",
   "execution_count": null,
   "metadata": {},
   "outputs": [],
   "source": [
    "%load_ext autoreload\n",
    "%autoreload 2"
   ]
  },
  {
   "cell_type": "markdown",
   "metadata": {},
   "source": [
    "# Exploration des résultats du modèle"
   ]
  },
  {
   "cell_type": "markdown",
   "metadata": {},
   "source": [
    "## Chargement des librairies, des données et du modèle\n",
    "\n",
    "Attention à bien utiliser les mêmes hyperparamètres de modèle et noms de variables que lors de l'entraînement"
   ]
  },
  {
   "cell_type": "code",
   "execution_count": null,
   "metadata": {},
   "outputs": [],
   "source": [
    "from pathlib import Path\n",
    "\n",
    "import pandas as pd\n",
    "import torch\n",
    "import torch.nn as nn\n",
    "from pytorch_lightning.callbacks import ModelCheckpoint\n",
    "from pytorch_lightning.loggers import TensorBoardLogger\n",
    "\n",
    "from reader import FromPandasDataset\n",
    "from model import (\n",
    "    PhysicalModel,\n",
    "    FlightMecaNet3DEq,\n",
    "    GenericFlightMecaDataset,\n",
    "    GenericFlightMecaDatasetFast,\n",
    ")\n",
    "from reader.preprocessing import lbs_to_kg, deg_to_rad, celcius_to_kelvin, kts_to_ms\n",
    "from visualisation import show_residue_evolution, show_all_anomaly_scores, show_anomaly_score_single_flight\n",
    "from postprocessing.anomaly_score import add_anomaly_score"
   ]
  },
  {
   "cell_type": "code",
   "execution_count": null,
   "metadata": {},
   "outputs": [],
   "source": [
    "training_name = \"test_0\"\n",
    "\n",
    "time_var = \"Time, s\"\n",
    "flight_name_var = \"flight_name\"\n",
    "mass_var = \"MASS\"\n",
    "jx_var = \"JX\"\n",
    "jy_var = \"JY\"\n",
    "jz_var = \"JZ\"\n",
    "alpha_var = \"ALPHA\"\n",
    "beta_var = \"BETA\"\n",
    "pressure_var = \"PST\"\n",
    "temp_var = \"SAT\"\n",
    "air_speed_var = \"VTAS\"\n",
    "mach_var = \"MACH\"\n",
    "gear_var = \"MLG\"\n",
    "flaps_bool_var = \"DB\"\n",
    "flaps_var = \"DVOLIG\"\n",
    "stab_var = \"TRIM\"\n",
    "elevator_var = \"DM\"\n",
    "rudder_var = \"DN\"\n",
    "aileron_var = \"DL\"\n",
    "spoiler_var = \"DSPOIL\"\n",
    "n1_var = \"N1\"\n",
    "altitude_var = \"ZBPIL\"\n",
    "roll_angle_var = \"PHI\"\n",
    "\n",
    "cx_input_vars = [\n",
    "    alpha_var,\n",
    "    flaps_var,\n",
    "    stab_var,\n",
    "    elevator_var,\n",
    "    mach_var,\n",
    "    gear_var,\n",
    "]\n",
    "\n",
    "cy_input_vars = [\n",
    "    beta_var,\n",
    "    rudder_var,\n",
    "    mach_var,\n",
    "]\n",
    "\n",
    "cz_input_vars = [\n",
    "    alpha_var,\n",
    "    flaps_var,\n",
    "    stab_var,\n",
    "    elevator_var,\n",
    "    mach_var,\n",
    "    gear_var,\n",
    "]\n",
    "\n",
    "thrust_input_vars = [\n",
    "    n1_var,\n",
    "    pressure_var,\n",
    "    temp_var,\n",
    "]"
   ]
  },
  {
   "cell_type": "code",
   "execution_count": null,
   "metadata": {},
   "outputs": [],
   "source": [
    "datapath = Path.cwd() / \"test_data\" / \"test_data.csv\"\n",
    "\n",
    "df = pd.read_csv(datapath)\n",
    "df = df.set_index([flight_name_var, time_var])"
   ]
  },
  {
   "cell_type": "code",
   "execution_count": null,
   "metadata": {},
   "outputs": [],
   "source": [
    "df = lbs_to_kg(df, [mass_var])\n",
    "df = deg_to_rad(\n",
    "    df,\n",
    "    [\n",
    "        alpha_var,\n",
    "        beta_var,\n",
    "        elevator_var,\n",
    "        rudder_var,\n",
    "        aileron_var,\n",
    "        spoiler_var,\n",
    "        roll_angle_var,\n",
    "    ],\n",
    ")\n",
    "df = celcius_to_kelvin(df, [temp_var])\n",
    "df = kts_to_ms(df, [air_speed_var])"
   ]
  },
  {
   "cell_type": "code",
   "execution_count": null,
   "metadata": {},
   "outputs": [],
   "source": [
    "to_normalize = cx_input_vars + cy_input_vars + cz_input_vars + thrust_input_vars\n",
    "to_normalize = list(set(to_normalize))\n",
    "\n",
    "# train_flight_names = [\"vol 1\", \"vol 2\", \"vol 3\", \"vol 4\", \"vol 5\", \"vol 6\", \"vol 7\", \"vol 8\"]\n",
    "train_flight_names = None\n",
    "data = FromPandasDataset(\n",
    "    df,\n",
    "    train_flight_names=train_flight_names,\n",
    "    data_reduction=None,\n",
    "    to_normalize=to_normalize,\n",
    "    filter_train_phases=True,\n",
    ")"
   ]
  },
  {
   "cell_type": "code",
   "execution_count": null,
   "metadata": {},
   "outputs": [],
   "source": [
    "dataset_var_names_list = [\n",
    "    cx_input_vars,\n",
    "    cy_input_vars,\n",
    "    cz_input_vars,\n",
    "    thrust_input_vars,\n",
    "]\n",
    "dataset_var_names = [\n",
    "    mass_var,\n",
    "    jx_var,\n",
    "    jy_var,\n",
    "    jz_var,\n",
    "    alpha_var,\n",
    "    beta_var,\n",
    "    pressure_var,\n",
    "    temp_var,\n",
    "    air_speed_var,\n",
    "]\n",
    "dataset_params = {\n",
    "    \"var_names\": dataset_var_names,\n",
    "    \"var_names_list\": dataset_var_names_list,\n",
    "}\n",
    "\n",
    "\n",
    "net_coef_dict = {\n",
    "    \"cx_net_coef\": 1e-2,\n",
    "    \"cy_net_coef\": 1e-3,\n",
    "    \"cz_net_coef\": 1e-1,\n",
    "    \"trust_net_coef\": 1e3,\n",
    "}\n",
    "\n",
    "net_params = {\n",
    "    \"cx_param_dim\": len(cx_input_vars),\n",
    "    \"cy_param_dim\": len(cy_input_vars),\n",
    "    \"cz_param_dim\": len(cz_input_vars),\n",
    "    \"thrust_param_dim\": len(thrust_input_vars),\n",
    "    \"regressor_layers\": 3,\n",
    "    \"regressor_layer_dim\": 64,\n",
    "    \"lr\": 1e-5,\n",
    "    \"net_coef_dict\": net_coef_dict,\n",
    "    \"equation_params\": {\n",
    "        \"air_molar_mass\": 29e-3,\n",
    "        \"gas_constant\": 8.314,\n",
    "        \"wing_surface\": 21.5,  # surface ailaire, en m^2\n",
    "    },\n",
    "}\n",
    "\n",
    "saving_dir = Path.cwd() / \"checkpoints\" / training_name\n",
    "log_dir = Path.cwd() / \"logs\"\n",
    "\n",
    "callbacks = [\n",
    "    ModelCheckpoint(\n",
    "        saving_dir,\n",
    "        \"checkpoint.ckpt\",\n",
    "        monitor=\"val loss\",\n",
    "    )\n",
    "]\n",
    "\n",
    "trainer_params = {\n",
    "    \"max_epochs\": 200,\n",
    "    \"callbacks\": callbacks,\n",
    "    \"logger\": TensorBoardLogger(save_dir=log_dir),\n",
    "}\n",
    "\n",
    "model = PhysicalModel(\n",
    "    log_dir=log_dir,\n",
    "    saving_dir=saving_dir,\n",
    "    saving_name=\"checkpoint.ckpt\",\n",
    "    NetClass=FlightMecaNet3DEq,\n",
    "    net_params=net_params,\n",
    "    DatasetClass=GenericFlightMecaDatasetFast,\n",
    "    dataset_params=dataset_params,\n",
    "    trainer_params=trainer_params,\n",
    "    batch_size=1024,\n",
    "    num_loader_workers=8,  # à ajuster selon le nombre de coeurs dispos\n",
    ")"
   ]
  },
  {
   "cell_type": "code",
   "execution_count": null,
   "metadata": {},
   "outputs": [],
   "source": [
    "if not model._is_fitted:\n",
    "    raise Exception(\"Le modèle doit d'abord être entraîné\")"
   ]
  },
  {
   "cell_type": "markdown",
   "metadata": {},
   "source": [
    "## Réalisation des prédictions sur les vols de test"
   ]
  },
  {
   "cell_type": "code",
   "execution_count": null,
   "metadata": {},
   "outputs": [],
   "source": [
    "res = model.predict(data.test, concat_predict_and_data=True)\n",
    "\n",
    "# Ajout du score d'anomalie\n",
    "res = add_anomaly_score(res)"
   ]
  },
  {
   "cell_type": "code",
   "execution_count": null,
   "metadata": {},
   "outputs": [],
   "source": [
    "print(\"Noms des vols et instants disponibles associés :\")\n",
    "for flight_name in res.index.get_level_values(0).unique():\n",
    "    t_min = res.loc[flight_name].index.min()\n",
    "    t_max = res.loc[flight_name].index.max()\n",
    "    print(f\"\\tVol {flight_name}, instants disponibles de {t_min} à {t_max}.\")"
   ]
  },
  {
   "cell_type": "markdown",
   "metadata": {},
   "source": [
    "## Visualisation des résultats du modèle\n",
    "\n",
    "### Évolution du score d'anomalie lors des vols\n",
    "\n",
    "Visualisation de l'évolution du score d'anomalies lors des différents vols. La variable `anomaly_detection_quantile` permet de définir quelle quantile des données mettre en avant sur la figure."
   ]
  },
  {
   "cell_type": "code",
   "execution_count": null,
   "metadata": {},
   "outputs": [],
   "source": [
    "anomaly_detection_quantile = 0.95\n",
    "fig = show_all_anomaly_scores(res, anomaly_detection_quantile)"
   ]
  },
  {
   "cell_type": "markdown",
   "metadata": {},
   "source": [
    "### Exploration du score d'anomalies vol par vol"
   ]
  },
  {
   "cell_type": "code",
   "execution_count": null,
   "metadata": {},
   "outputs": [],
   "source": [
    "flight_name = \"vol 10\"\n",
    "start_time = 1.25\n",
    "end_time = 280\n",
    "\n",
    "fig = show_anomaly_score_single_flight(\n",
    "    res,\n",
    "    flight_name,\n",
    "    start_time=start_time,\n",
    "    end_time=end_time,\n",
    "    anomaly_detection_quantile=anomaly_detection_quantile,\n",
    ")\n",
    "fig.show()"
   ]
  },
  {
   "cell_type": "markdown",
   "metadata": {},
   "source": [
    "### Visualisation des résidus lors d'un vol"
   ]
  },
  {
   "cell_type": "code",
   "execution_count": null,
   "metadata": {},
   "outputs": [],
   "source": [
    "flight_name = \"vol 10\"\n",
    "start_time = 0\n",
    "end_time = 299.95\n",
    "\n",
    "fig = show_residue_evolution(\n",
    "    res,\n",
    "    flight_name,\n",
    "    start_time,\n",
    "    end_time,\n",
    ")\n",
    "fig.show()"
   ]
  }
 ],
 "metadata": {
  "kernelspec": {
   "display_name": "tf-dassault-env",
   "language": "python",
   "name": "python3"
  },
  "language_info": {
   "codemirror_mode": {
    "name": "ipython",
    "version": 3
   },
   "file_extension": ".py",
   "mimetype": "text/x-python",
   "name": "python",
   "nbconvert_exporter": "python",
   "pygments_lexer": "ipython3",
   "version": "3.10.14"
  }
 },
 "nbformat": 4,
 "nbformat_minor": 2
}
