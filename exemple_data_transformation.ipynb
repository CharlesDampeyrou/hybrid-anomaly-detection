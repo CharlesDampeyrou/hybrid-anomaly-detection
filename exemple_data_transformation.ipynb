{
 "cells": [
  {
   "cell_type": "markdown",
   "metadata": {},
   "source": [
    "# Transformation des données de simulation en données de test"
   ]
  },
  {
   "cell_type": "code",
   "execution_count": 1,
   "metadata": {},
   "outputs": [],
   "source": [
    "from pathlib import Path\n",
    "\n",
    "import pandas as pd\n",
    "import numpy as np"
   ]
  },
  {
   "cell_type": "code",
   "execution_count": 2,
   "metadata": {},
   "outputs": [],
   "source": [
    "original_dir_path = Path.home() / \"Documents\" / \"data\" / \"Safire_meghatropique\" / \"simulations\" / \"icing\" / \"short_sim\"\n",
    "output_dir_path = Path.cwd() / \"test_data\"\n",
    "\n",
    "original_file_paths = list(original_dir_path.glob(\"*.csv\"))[:15]\n",
    "output_file_path = output_dir_path / \"test_data.csv\""
   ]
  },
  {
   "cell_type": "code",
   "execution_count": 3,
   "metadata": {},
   "outputs": [],
   "source": [
    "def transform_files(\n",
    "    original_file_paths,\n",
    "    output_file_path,\n",
    "    column_mapping,\n",
    "):\n",
    "    res_df = pd.DataFrame()\n",
    "    for fp in original_file_paths:\n",
    "        flight_name = fp.stem\n",
    "        df = pd.read_csv(fp)\n",
    "        transformed_df = pd.DataFrame()\n",
    "        for new_column_name, old_column_name in column_mapping.items():\n",
    "            transformed_df[new_column_name] = df[old_column_name]\n",
    "        transformed_df = transform_altitude(transformed_df)\n",
    "        transformed_df = transform_mass(transformed_df)\n",
    "        transformed_df = transform_flaps(transformed_df)\n",
    "        transformed_df = transform_rad_to_deg(transformed_df)\n",
    "        transformed_df = transform_kelvin_to_celcius(transformed_df)\n",
    "        transformed_df = transform_ms_to_kts(transformed_df)\n",
    "        transformed_df = transform_pascal_to_mbar(transformed_df)\n",
    "        transformed_df = round_time(transformed_df)\n",
    "        transformed_df[\"flight_name\"] = flight_name\n",
    "        res_df = pd.concat([res_df, transformed_df])\n",
    "    res_df = transform_flight_names(res_df)\n",
    "    res_df.to_csv(output_file_path, index=False)\n",
    "\n",
    "def transform_altitude(df):\n",
    "    df[\"ZBPIL\"] = - df[\"ZBPIL\"]\n",
    "    return df\n",
    "\n",
    "def transform_mass(df):\n",
    "    df[\"MASS\"] = df[\"MASS\"] * 2.2046\n",
    "    return df\n",
    "\n",
    "def transform_flaps(df):\n",
    "    df[\"DB\"] = df[\"DB\"].apply(lambda x: 1 if x > 0.01 else 0)\n",
    "    return df\n",
    "\n",
    "def transform_rad_to_deg(df):\n",
    "    df[\"ALPHA\"] = df[\"ALPHA\"] * 180 / np.pi\n",
    "    df[\"BETA\"] = df[\"BETA\"] * 180 / np.pi\n",
    "    df[\"DM\"] = df[\"DM\"] * 180 / np.pi\n",
    "    df[\"DN\"] = df[\"DN\"] * 180 / np.pi\n",
    "    df[\"DSPOIL\"] = df[\"DSPOIL\"] * 180 / np.pi\n",
    "    df[\"PHI\"] = df[\"PHI\"] * 180 / np.pi\n",
    "    return df\n",
    "\n",
    "def transform_kelvin_to_celcius(df):\n",
    "    df[\"SAT\"] = df[\"SAT\"] - 273.15\n",
    "    return df\n",
    "\n",
    "def transform_ms_to_kts(df):\n",
    "    df[\"VTAS\"] = df[\"VTAS\"] * 1.852\n",
    "    return df\n",
    "\n",
    "def transform_pascal_to_mbar(df):\n",
    "    df[\"PST\"] = df[\"PST\"] / 100\n",
    "    return df\n",
    "\n",
    "def round_time(df):\n",
    "    df[\"Time, s\"] = df[\"Time, s\"].round(2)\n",
    "\n",
    "def transform_flight_names(df):\n",
    "    unique_values = df[\"flight_name\"].unique()\n",
    "    value_to_numeric = {value: f\"vol {idx}\" for idx, value in enumerate(unique_values)}\n",
    "    df[\"flight_name\"] = df[\"flight_name\"].map(value_to_numeric)\n",
    "    return df"
   ]
  },
  {
   "cell_type": "code",
   "execution_count": 4,
   "metadata": {},
   "outputs": [],
   "source": [
    "column_mapping = {\n",
    "    \"Time, s\": \"Time, s\",\n",
    "    \"MASS\": \"Mass of the aircraft, m, kg\",\n",
    "    \"JX\": \"X load factor\",\n",
    "    \"JY\": \"Y load factor\",\n",
    "    \"JZ\": \"Z load factor\",\n",
    "    \"ALPHA\": \"Incidence angle alpha, rad\",\n",
    "    \"BETA\": \"Sideslip angle beta, rad\",\n",
    "    \"PST\": \"Air Pressure, N/m^2\",\n",
    "    \"SAT\": \"Air Temperature, K\",\n",
    "    \"VTAS\": \"Air speed, m/s\",\n",
    "    \"MACH\": \"Mach number\",\n",
    "    \"MLG\": \"Position of the gear, %\",\n",
    "    \"DB\": \"Position of the flaps, fl, rad\",\n",
    "    \"DVOLIG\": \"Position of the flaps, fl, rad\",\n",
    "    \"TRIM\": \"Stabilator, dSr, rad\",\n",
    "    \"DM\": \"Elevator, dEr, rad, positive: trailing edge down\",\n",
    "    \"DN\": \"Rudder, dRr, rad, positive: trailing edge left\",\n",
    "    \"DL\": \"Aileron, dAr, rad, positive: left trailing edge down\",\n",
    "    \"DSPOIL\": \"Asymmetric Spoiler, dASr, rad\",\n",
    "    \"TROTTLE\": \"Throttle, dT, %\",\n",
    "    \"N1\": \"Throttle, dT, %\", # pas d'info sur le N1 donc on le prend identique au throttle\n",
    "    \"ZBPIL\": \"Negative of c.m. altitude WRT Earth, ze = -h, m\",\n",
    "    \"PHI\": \"Roll angle of body WRT Earth, phir, rad\",\n",
    "}"
   ]
  },
  {
   "cell_type": "code",
   "execution_count": 5,
   "metadata": {},
   "outputs": [],
   "source": [
    "transform_files(\n",
    "    original_file_paths,\n",
    "    output_file_path,\n",
    "    column_mapping,\n",
    ")"
   ]
  }
 ],
 "metadata": {
  "kernelspec": {
   "display_name": "Python 3",
   "language": "python",
   "name": "python3"
  },
  "language_info": {
   "codemirror_mode": {
    "name": "ipython",
    "version": 3
   },
   "file_extension": ".py",
   "mimetype": "text/x-python",
   "name": "python",
   "nbconvert_exporter": "python",
   "pygments_lexer": "ipython3",
   "version": "3.10.9"
  }
 },
 "nbformat": 4,
 "nbformat_minor": 2
}
